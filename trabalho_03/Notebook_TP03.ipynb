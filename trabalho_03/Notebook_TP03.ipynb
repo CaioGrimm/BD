{
 "cells": [
  {
   "cell_type": "markdown",
   "metadata": {},
   "source": [
    "Tarefa 1 – Instalação do PostgreSQL\n",
    "O PostgreSQL é um SGBD objeto-relacional que possui recursos comuns à SGBDs de grande porte. Trata-se de um sistema versátil, robusto e livre.  É possível utilizar o PostgreSQL em vários sistemas operacionais, dentre os quais o Windows e Linux, ou em qualquer sistema compatível com as especificações POSIX.  Segundo informações do site oficial, o PostgreSQL permite a criação de bancos de dados de tamanho infinito. Cada tabela pode ter até 16 TB (1 terabyte = 1024 gigabytes), sendo que cada tupla pode ter até 1,6 TB e cada atributo 1 GB. O sistema tem recursos como triggers, integridade referencial, entre outros, além de ser compatível com uma série de linguagens, tais como C, C++, PHP, Python, Java, Perl, etc. O uso do PostgreSQL é muito difundido, pois várias empresas perceberam que com ele podem criar BDs complexos sem a necessidade de gastar altos valores na aquisição de licenças. Outra vantagem, é que o PostgreSQL possui uma documentação muito abrangente, o que permite suporte adequado às necessidades.\n",
    "A primeira tarefa deste trabalho consiste na instalação do PostgreSQL. Os fontes e as instruções de instalação estão em: http://www.postgresql.org. \n",
    "O que entregar: Deve ser apresentada saída do log de instalação."
   ]
  },
  {
   "cell_type": "code",
   "execution_count": 2,
   "metadata": {},
   "outputs": [
    {
     "name": "stdout",
     "output_type": "stream",
     "text": [
      "Reading package lists...\n",
      "Building dependency tree...\n",
      "Reading state information...\n",
      "The following additional packages will be installed:\n",
      "  postgresql-12 postgresql-client-12 postgresql-client-common\n",
      "  postgresql-common\n",
      "Suggested packages:\n",
      "  postgresql-doc postgresql-doc-12 libjson-perl\n",
      "The following NEW packages will be installed:\n",
      "  postgresql postgresql-12 postgresql-client-12 postgresql-client-common\n",
      "  postgresql-common postgresql-contrib\n",
      "0 upgraded, 6 newly installed, 0 to remove and 63 not upgraded.\n",
      "Need to get 14.8 MB of archives.\n",
      "After this operation, 46.0 MB of additional disk space will be used.\n",
      "Get:1 http://archive.ubuntu.com/ubuntu focal-updates/main amd64 postgresql-client-common all 214ubuntu0.1 [28.2 kB]\n",
      "Get:2 http://archive.ubuntu.com/ubuntu focal-updates/main amd64 postgresql-client-12 amd64 12.20-0ubuntu0.20.04.1 [1055 kB]\n",
      "Get:3 http://archive.ubuntu.com/ubuntu focal-updates/main amd64 postgresql-common all 214ubuntu0.1 [169 kB]\n",
      "Get:4 http://archive.ubuntu.com/ubuntu focal-updates/main amd64 postgresql-12 amd64 12.20-0ubuntu0.20.04.1 [13.5 MB]\n",
      "Get:5 http://archive.ubuntu.com/ubuntu focal-updates/main amd64 postgresql all 12+214ubuntu0.1 [3924 B]\n",
      "Get:6 http://archive.ubuntu.com/ubuntu focal-updates/main amd64 postgresql-contrib all 12+214ubuntu0.1 [3932 B]\n",
      "Preconfiguring packages ...\n",
      "Fetched 14.8 MB in 4s (3374 kB/s)\n",
      "Selecting previously unselected package postgresql-client-common.\n",
      "(Reading database ... \n",
      "(Reading database ... 5%\n",
      "(Reading database ... 10%\n",
      "(Reading database ... 15%\n",
      "(Reading database ... 20%\n",
      "(Reading database ... 25%\n",
      "(Reading database ... 30%\n",
      "(Reading database ... 35%\n",
      "(Reading database ... 40%\n",
      "(Reading database ... 45%\n",
      "(Reading database ... 50%\n",
      "(Reading database ... 55%\n",
      "(Reading database ... 60%\n",
      "(Reading database ... 65%\n",
      "(Reading database ... 70%\n",
      "(Reading database ... 75%\n",
      "(Reading database ... 80%\n",
      "(Reading database ... 85%\n",
      "(Reading database ... 90%\n",
      "(Reading database ... 95%\n",
      "(Reading database ... 100%\n",
      "(Reading database ... 48608 files and directories currently installed.)\n",
      "Preparing to unpack .../0-postgresql-client-common_214ubuntu0.1_all.deb ...\n",
      "Unpacking postgresql-client-common (214ubuntu0.1) ...\n",
      "Selecting previously unselected package postgresql-client-12.\n",
      "Preparing to unpack .../1-postgresql-client-12_12.20-0ubuntu0.20.04.1_amd64.deb ...\n",
      "Unpacking postgresql-client-12 (12.20-0ubuntu0.20.04.1) ...\n",
      "Selecting previously unselected package postgresql-common.\n",
      "Preparing to unpack .../2-postgresql-common_214ubuntu0.1_all.deb ...\n",
      "Adding 'diversion of /usr/bin/pg_config to /usr/bin/pg_config.libpq-dev by postgresql-common'\n",
      "Unpacking postgresql-common (214ubuntu0.1) ...\n",
      "Selecting previously unselected package postgresql-12.\n",
      "Preparing to unpack .../3-postgresql-12_12.20-0ubuntu0.20.04.1_amd64.deb ...\n",
      "Unpacking postgresql-12 (12.20-0ubuntu0.20.04.1) ...\n",
      "Selecting previously unselected package postgresql.\n",
      "Preparing to unpack .../4-postgresql_12+214ubuntu0.1_all.deb ...\n",
      "Unpacking postgresql (12+214ubuntu0.1) ...\n",
      "Selecting previously unselected package postgresql-contrib.\n",
      "Preparing to unpack .../5-postgresql-contrib_12+214ubuntu0.1_all.deb ...\n",
      "Unpacking postgresql-contrib (12+214ubuntu0.1) ...\n",
      "Setting up postgresql-client-common (214ubuntu0.1) ...\n",
      "Setting up postgresql-client-12 (12.20-0ubuntu0.20.04.1) ...\n",
      "update-alternatives: using /usr/share/postgresql/12/man/man1/psql.1.gz to provide /usr/share/man/man1/psql.1.gz (psql.1.gz) in auto mode\n",
      "Setting up postgresql-common (214ubuntu0.1) ...\n",
      "\n",
      "Creating config file /etc/postgresql-common/createcluster.conf with new version\n",
      "Building PostgreSQL dictionaries from installed myspell/hunspell packages...\n",
      "Removing obsolete dictionary files:\n",
      "Created symlink /etc/systemd/system/multi-user.target.wants/postgresql.service → /lib/systemd/system/postgresql.service.\n",
      "Setting up postgresql-12 (12.20-0ubuntu0.20.04.1) ...\n",
      "Creating new PostgreSQL cluster 12/main ...\n",
      "/usr/lib/postgresql/12/bin/initdb -D /var/lib/postgresql/12/main --auth-local peer --auth-host md5\n",
      "The files belonging to this database system will be owned by user \"postgres\".\n",
      "This user must also own the server process.\n",
      "\n",
      "The database cluster will be initialized with locale \"C.UTF-8\".\n",
      "The default database encoding has accordingly been set to \"UTF8\".\n",
      "The default text search configuration will be set to \"english\".\n",
      "\n",
      "Data page checksums are disabled.\n",
      "\n",
      "fixing permissions on existing directory /var/lib/postgresql/12/main ... ok\n",
      "creating subdirectories ... ok\n",
      "selecting dynamic shared memory implementation ... posix\n",
      "selecting default max_connections ... 100\n",
      "selecting default shared_buffers ... 128MB\n",
      "selecting default time zone ... America/Manaus\n",
      "creating configuration files ... ok\n",
      "running bootstrap script ... ok\n",
      "performing post-bootstrap initialization ... ok\n",
      "syncing data to disk ... ok\n",
      "\n",
      "Success. You can now start the database server using:\n",
      "\n",
      "    pg_ctlcluster 12 main start\n",
      "\n",
      "Ver Cluster Port Status Owner    Data directory              Log file\n",
      "\u001b[31m12  main    5432 down   postgres /var/lib/postgresql/12/main /var/log/postgresql/postgresql-12-main.log\u001b[0m\n",
      "update-alternatives: using /usr/share/postgresql/12/man/man1/postmaster.1.gz to provide /usr/share/man/man1/postmaster.1.gz (postmaster.1.gz) in auto mode\n",
      "Setting up postgresql-contrib (12+214ubuntu0.1) ...\n",
      "Setting up postgresql (12+214ubuntu0.1) ...\n",
      "Processing triggers for man-db (2.9.1-1) ...\n",
      "Processing triggers for systemd (245.4-4ubuntu3.21) ...\n",
      "\n"
     ]
    }
   ],
   "source": [
    "# Ler o arquivo de log e exibir no notebook\n",
    "with open(\"postgresql_install_log.txt\", \"r\") as file:\n",
    "    log = file.read()\n",
    "\n",
    "print(log)\n"
   ]
  },
  {
   "cell_type": "markdown",
   "metadata": {},
   "source": [
    "Tarefa 2 – Geração de um BD de testes\n",
    "\n",
    "A segunda tarefa deste trabalho consiste na criação de banco de dados em cada um dos sistemas e o povoamento destas tabelas com dados sintéticos.  Para a definição do esquema das tabelas e os dados a serem carregados usaremos a especificação e os utilitários fornecidos pelos Benchmark TPC-H (http://www.tpc.org/tpch/). \t\n",
    "\n",
    "Para geração do BD no PostgreSQL, siga as instruções disponíveis em:\n",
    "\n",
    "https://github.com/foliveirafilho/tpch-pgsql\n",
    "\n",
    "O que entregar: Devem ser apresentadas as saídas da execução dos scripts de geração.\n"
   ]
  },
  {
   "cell_type": "code",
   "execution_count": 4,
   "metadata": {},
   "outputs": [
    {
     "name": "stdout",
     "output_type": "stream",
     "text": [
      "Log da Preparação:\n",
      "make: Nothing to be done for 'all'.\n",
      "built dbgen from source\n",
      "generated data for the load phase\n",
      "generated data for the update phase\n",
      "generated data for the delete phase\n",
      "created data files in ./data\n",
      "created query files in ./query_root\n",
      "\n"
     ]
    }
   ],
   "source": [
    "# Abrir o log de preparação dentro da pasta tpch-pgsql\n",
    "with open(\"tpch-pgsql/prepare_log.txt\", \"r\") as file:\n",
    "    prepare_log = file.read()\n",
    "\n",
    "print(\"Log da Preparação:\")\n",
    "print(prepare_log)"
   ]
  },
  {
   "cell_type": "code",
   "execution_count": 5,
   "metadata": {},
   "outputs": [
    {
     "name": "stdout",
     "output_type": "stream",
     "text": [
      "Log do Carregamento:\n",
      "dropped existing tables\n",
      "cleaned database tpchdb\n",
      "done creating schemas\n",
      "done loading data to tables\n",
      "done creating indexes and foreign keys\n",
      "============================================================\n",
      "=========================== Load ===========================\n",
      "============================================================\n",
      "create_schema: : 0:00:00.040000\n",
      "load_data: 0:00:29.937102\n",
      "index_tables: 0:00:31.309403\n",
      "============================================================\n",
      "======================= End Results ========================\n",
      "============================================================\n",
      "\n"
     ]
    }
   ],
   "source": [
    "# Abrir o log de carregamento dentro da pasta tpch-pgsql\n",
    "with open(\"tpch-pgsql/load_log.txt\", \"r\") as file:\n",
    "    load_log = file.read()\n",
    "\n",
    "print(\"Log do Carregamento:\")\n",
    "print(load_log)\n"
   ]
  },
  {
   "cell_type": "markdown",
   "metadata": {},
   "source": [
    "Tarefa 3 – Execução de Consultas\n",
    "\n",
    "A terceira tarefa deste trabalho consiste na execução de uma série de consultas do Benchmark TPC-H nos sistemas instalados. \n",
    "\n",
    "Usando as instruções disponíveis nas mesmas URLs acima, execute os passos referentes ao PostgreSQL.  \n",
    "\n",
    "O que entregar: Devem ser apresentadas as consultas e os seus resultados\n"
   ]
  },
  {
   "cell_type": "code",
   "execution_count": null,
   "metadata": {},
   "outputs": [],
   "source": []
  }
 ],
 "metadata": {
  "kernelspec": {
   "display_name": "Python 3 (ipykernel)",
   "language": "python",
   "name": "python3"
  },
  "language_info": {
   "codemirror_mode": {
    "name": "ipython",
    "version": 3
   },
   "file_extension": ".py",
   "mimetype": "text/x-python",
   "name": "python",
   "nbconvert_exporter": "python",
   "pygments_lexer": "ipython3",
   "version": "3.8.10"
  }
 },
 "nbformat": 4,
 "nbformat_minor": 4
}
